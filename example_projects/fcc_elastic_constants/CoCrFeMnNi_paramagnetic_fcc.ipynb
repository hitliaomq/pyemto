{
 "cells": [
  {
   "cell_type": "markdown",
   "metadata": {},
   "source": [
    "# Make the cell width as wide as possible"
   ]
  },
  {
   "cell_type": "code",
   "execution_count": null,
   "metadata": {},
   "outputs": [],
   "source": [
    "from IPython.display import display, HTML\n",
    "HTML(\"<style>.container { width:98% !important; }</style>\")"
   ]
  },
  {
   "cell_type": "code",
   "execution_count": null,
   "metadata": {},
   "outputs": [],
   "source": [
    "%pylab inline\n",
    "import numpy as np\n",
    "from pyemto.EOS import EOS\n",
    "from pyemto.emto_parser import EMTOPARSER"
   ]
  },
  {
   "cell_type": "markdown",
   "metadata": {},
   "source": [
    "# Define constants and the delta array for elastic constants calculations.\n",
    "\n",
    "For more information about delta, check page 104 of the EMTO book **Computational Quantum Mechanics for Materials Engineers: The EMTO Method and Applications**"
   ]
  },
  {
   "cell_type": "code",
   "execution_count": null,
   "metadata": {},
   "outputs": [],
   "source": [
    "lat = 'fcc'\n",
    "\n",
    "ry2J = 2.1798741e-18\n",
    "A2m = 1e-10\n",
    "bohr2A = 0.529177249\n",
    "\n",
    "deltas = np.linspace(0, 0.05, 6)\n",
    "deltas[0] = 0.001"
   ]
  },
  {
   "cell_type": "markdown",
   "metadata": {},
   "source": [
    "# EMTOPARSER automatically creates a Pandas dataframe from the KGRN and KFCD output files\n",
    "\n",
    "## DLM = disordered local moments\n",
    "\n",
    "## The EMTO output files have been created using the scripts that can be found in the \"input_scripts\" folder."
   ]
  },
  {
   "cell_type": "code",
   "execution_count": null,
   "metadata": {},
   "outputs": [],
   "source": [
    "# Equilibrium lattice constant output files\n",
    "vol_data = EMTOPARSER('eq_vol_bmod/kgrn/*', 'eq_vol_bmod/kfcd/*', suffix='prn', DLM=True)\n",
    "\n",
    "vol_data.create_df()\n",
    "vol_df = vol_data.main_df\n",
    "\n",
    "# Elastic constants output files\n",
    "ec_data = EMTOPARSER('elastic_constants/kgrn/*', 'elastic_constants/kfcd/*', suffix='prn', DLM=True)\n",
    "\n",
    "ec_data.create_df()\n",
    "ec_df = ec_data.main_df"
   ]
  },
  {
   "cell_type": "markdown",
   "metadata": {},
   "source": [
    "# EOS class has the method argument, which can be used to change the fitting function\n",
    "\n",
    "SWS = Wigner-Seitz radius\n",
    "\n",
    "volumes should be given as Wigner-Seitz radii in units of bohr.\n",
    "\n",
    "energies should be given as energy/atom in units of Rydberg."
   ]
  },
  {
   "cell_type": "code",
   "execution_count": null,
   "metadata": {},
   "outputs": [],
   "source": [
    "eos = EOS('test', method='morse')\n",
    "\n",
    "# Bmod = 187 (previous EMTO)\n",
    "#indMin = 3\n",
    "#indMax = -7#len(vol_df.SWS)\n",
    "\n",
    "# Bmod = 160 (previous VASP)\n",
    "indMin = 4\n",
    "indMax = -2#len(vol_df.SWS)\n",
    "\n",
    "SWS0, E0, B0, grun0, error0 = eos.fit(vol_df.SWS[indMin:indMax], vol_df.EPBE[indMin:indMax], show_plot=True)\n",
    "vol0 = 4./3*np.pi*(SWS0*bohr2A)**3"
   ]
  },
  {
   "cell_type": "code",
   "execution_count": null,
   "metadata": {},
   "outputs": [],
   "source": [
    "figsize(12,6)\n",
    "\n",
    "for i in range(vol_df.Mag.values.shape[1]):\n",
    "    if np.mean(vol_df.Mag.values[:,i]) > 0:\n",
    "        plot(vol_df.SWS, vol_df.Mag.values[:,i], '-o', label=vol_df.Elem.values[0,i])\n",
    "    else:\n",
    "        plot(vol_df.SWS, vol_df.Mag.values[:,i], '--d', label=vol_df.Elem.values[0,i])\n",
    "    \n",
    "plot([SWS0, SWS0], [-100, 100], '--')\n",
    "ylim(vol_df.Mag.values.min()-0.1, vol_df.Mag.values.max()+0.1)\n",
    "legend(fontsize=22, loc='upper left')\n",
    "title('Magnetic moments', fontsize=22)"
   ]
  },
  {
   "cell_type": "code",
   "execution_count": null,
   "metadata": {},
   "outputs": [],
   "source": [
    "# d1 is the c' distortion\n",
    "d1 = np.asarray(ec_df[ec_df.Struc.str.contains('d1')].EPBE)\n",
    "plot(deltas, d1, 'o-')\n",
    "\n",
    "# d2 is the c44 distortion\n",
    "d2 = np.asarray(ec_df[ec_df.Struc.str.contains('d2')].EPBE)\n",
    "plot(deltas, d2, 'o-')\n",
    "\n",
    "xlabel('$\\delta$', fontsize=22)\n",
    "title('Energy vs. delta', fontsize=22)"
   ]
  },
  {
   "cell_type": "markdown",
   "metadata": {},
   "source": [
    "# Distortion matrices for cubic lattices can be found in the EMTO book.\n",
    "\n",
    "CP = Cauchy pressure"
   ]
  },
  {
   "cell_type": "code",
   "execution_count": null,
   "metadata": {},
   "outputs": [],
   "source": [
    "cprime_coeffs, cprime_error = eos.distortion_fit(deltas, d1, num=1)\n",
    "c44_coeffs, c44_error = eos.distortion_fit(deltas, d2, num=1)\n",
    "\n",
    "# Change units to GPa\n",
    "cprime_coeffs = cprime_coeffs[0] * ry2J / (vol0*A2m**3) / 2 / 1e9\n",
    "c44_coeffs = c44_coeffs[0] * ry2J / (vol0*A2m**3) / 2 / 1e9\n",
    "\n",
    "print('SWS = ', SWS0)\n",
    "print('B   = ', B0)\n",
    "print('c\\'  = ', cprime_coeffs)\n",
    "print('c44 = ', c44_coeffs)\n",
    "print('CP  = ', B0 - 2./3*cprime_coeffs - c44_coeffs)"
   ]
  }
 ],
 "metadata": {
  "kernelspec": {
   "display_name": "Python 3",
   "language": "python",
   "name": "python3"
  },
  "language_info": {
   "codemirror_mode": {
    "name": "ipython",
    "version": 3
   },
   "file_extension": ".py",
   "mimetype": "text/x-python",
   "name": "python",
   "nbconvert_exporter": "python",
   "pygments_lexer": "ipython3",
   "version": "3.7.1"
  }
 },
 "nbformat": 4,
 "nbformat_minor": 2
}
